{
 "cells": [
  {
   "cell_type": "code",
   "execution_count": null,
   "metadata": {},
   "outputs": [],
   "source": [
    "#1. Write a program which will find all such numbers which are divisible by 7 but are not a multiple of 5, between 2000 and \n",
    "#3200 (both included). The numbers obtained should be printed\n",
    "#in a comma-separated sequence on a single line."
   ]
  },
  {
   "cell_type": "code",
   "execution_count": null,
   "metadata": {},
   "outputs": [],
   "source": [
    "list = [x for x in range(2000, 3201) if x % 7 == 0 and x % 5 !=0]\n",
    "print(list, sep= ',' )"
   ]
  },
  {
   "cell_type": "code",
   "execution_count": 37,
   "metadata": {},
   "outputs": [
    {
     "name": "stdout",
     "output_type": "stream",
     "text": [
      " Singh Pradeep\n"
     ]
    }
   ],
   "source": [
    "##2. Write a Python program to accept the user's first and last name \n",
    "# and then getting them printed in the the reverse order with a space between first name and last name.\n",
    "\n",
    "First_name = input(\"Enter your first name : \")\n",
    "Last_name = input(\"Enter your last name: \")\n",
    "\n",
    "print(f\" {Last_name} {First_name}\")\n",
    "\n",
    "\n",
    "\n"
   ]
  },
  {
   "cell_type": "code",
   "execution_count": 39,
   "metadata": {},
   "outputs": [
    {
     "name": "stdout",
     "output_type": "stream",
     "text": [
      "Volume pf sphere is : 904.78 \n"
     ]
    }
   ],
   "source": [
    "##Write a Python program to find the volume of a sphere with diameter 12 cm.\n",
    "##Formula: V=4/3 * π * r 3\n",
    "\n",
    "from math import pi\n",
    "Radius = float(input(\"Enter the Radius of sphere : \"))\n",
    "\n",
    "Volume = ( 4/3 )* pi * (Radius ** 3) \n",
    "print(\"Volume pf sphere is : %.2f \" %Volume)\n",
    "\n",
    "\n",
    "\n"
   ]
  }
 ],
 "metadata": {
  "kernelspec": {
   "display_name": "Python 3.9.12 ('base')",
   "language": "python",
   "name": "python3"
  },
  "language_info": {
   "codemirror_mode": {
    "name": "ipython",
    "version": 3
   },
   "file_extension": ".py",
   "mimetype": "text/x-python",
   "name": "python",
   "nbconvert_exporter": "python",
   "pygments_lexer": "ipython3",
   "version": "3.9.12"
  },
  "orig_nbformat": 4,
  "vscode": {
   "interpreter": {
    "hash": "c837d70095bb5b77eaa70e812246bd060aebc47aca1aded33147a3c0312c5640"
   }
  }
 },
 "nbformat": 4,
 "nbformat_minor": 2
}
